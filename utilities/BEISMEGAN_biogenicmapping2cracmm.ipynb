{
 "cells": [
  {
   "cell_type": "markdown",
   "id": "0cfa8e4e-8935-4017-b8ff-965ba562f422",
   "metadata": {},
   "source": [
    "# Map BEIS and MEGAN species to CRACMM\n",
    "\n",
    "---\n",
    "    author: Havala Pye\n",
    "    date: 2024-08-08\n",
    "---\n",
    "\n",
    "Identify the CRACMM species for each BEIS/MEGAN species using the mapper. The cracmm_mapper function depends on [rdkit](https://www.rdkit.org/)."
   ]
  },
  {
   "cell_type": "markdown",
   "id": "6f34a062-2b03-4a18-a0e1-fa37e26ec722",
   "metadata": {},
   "source": [
    "## Setup"
   ]
  },
  {
   "cell_type": "code",
   "execution_count": 1,
   "id": "84fc493b-a369-4729-8317-e9401f76a869",
   "metadata": {},
   "outputs": [],
   "source": [
    "import pandas as pd\n",
    "from datetime import datetime, timedelta, date\n",
    "import rdkit as rdkit\n",
    "from rdkit import Chem\n",
    "from rdkit.Chem import AllChem\n",
    "from rdkit.Chem import Draw\n",
    "from rdkit.Chem.Draw import SimilarityMaps\n",
    "import numpy as np"
   ]
  },
  {
   "cell_type": "code",
   "execution_count": 2,
   "id": "f4562478-e1bf-4902-8297-5dfe9e5e0c18",
   "metadata": {},
   "outputs": [],
   "source": [
    "## Install rdkit if not already installed\n",
    "\n",
    "# !python -m pip install --user rdkit\n",
    "\n",
    "# to install in the current kernel:\n",
    "# %pip install rdkit"
   ]
  },
  {
   "cell_type": "code",
   "execution_count": 3,
   "id": "f83cc394-9140-4266-8347-cfd84cf04bdd",
   "metadata": {},
   "outputs": [],
   "source": [
    "# set location of mapper downloaded from https://github.com/USEPA/CRACMM/\n",
    "import sys\n",
    "utildir = '/work/MOD3DEV/has/2023cracmm_ages/structurecuration/utilities/'   \n",
    "sys.path.append(utildir)\n",
    "\n",
    "# Import the python utilities\n",
    "import cracmm_mapper as cracmm2   # includes: get_cracmm_roc(smiles,koh,log10cstar) (Version 2)"
   ]
  },
  {
   "cell_type": "code",
   "execution_count": 4,
   "id": "193f4b5f-54b3-4a84-ab36-9b99c6281f54",
   "metadata": {},
   "outputs": [],
   "source": [
    "datadir = '/work/MOD3DEV/has/2023cracmm_ages/structurecuration/data/'    # data files of mappings"
   ]
  },
  {
   "cell_type": "code",
   "execution_count": 5,
   "id": "d3608277-b1f5-40ac-9783-f21bbd3078e7",
   "metadata": {},
   "outputs": [],
   "source": [
    "pd.set_option('display.max_rows', None)"
   ]
  },
  {
   "cell_type": "markdown",
   "id": "ab6828cf-4cd7-46e5-a52c-e49581d560c2",
   "metadata": {},
   "source": [
    "### BEIS\n",
    "input beis mapping from https://github.com/USEPA/CRACMM/tree/main/emissions/BiogenicMappings"
   ]
  },
  {
   "cell_type": "code",
   "execution_count": 7,
   "id": "801e380d-fea9-4300-a210-3d568db8b5ce",
   "metadata": {},
   "outputs": [
    {
     "name": "stdout",
     "output_type": "stream",
     "text": [
      "para-cymene ROCP6ARO VROCP6ARO\n",
      "carbon monoxide SLOWROC UNKCRACMM\n"
     ]
    },
    {
     "name": "stderr",
     "output_type": "stream",
     "text": [
      "/work/MOD3DEV/has/2023cracmm_ages/structurecuration/utilities/cracmm_mapper.py:286: UserWarning: Species with SMILES [N]=O is unknown in CRACMM and has been mapped to UNKCRACMM.\n",
      "  warnings.warn(unkcracmm_msg)\n",
      "/work/MOD3DEV/has/2023cracmm_ages/structurecuration/utilities/cracmm_mapper.py:286: UserWarning: Species with SMILES [C-]#[O+] is unknown in CRACMM and has been mapped to UNKCRACMM.\n",
      "  warnings.warn(unkcracmm_msg)\n"
     ]
    }
   ],
   "source": [
    "filename = datadir + 'bvoc_beis_tocracmm2alpha.csv' \n",
    "dfbeis = pd.read_csv(filename)\n",
    "\n",
    "# check mappings vs mapper, differences will be printed to screen\n",
    "for idx, row in dfbeis.iterrows():    \n",
    "    query_smiles = str(row['SMILES'])\n",
    "    koh = row['ATMOSPHERIC_HYDROXYLATION_RATE_(AOH)_CM3/MOLECULE*SEC_OPERA_PRED']\n",
    "    log10cstar = row['log10Cstar_ugm3']\n",
    "    roc = cracmm2.get_cracmm_roc(query_smiles,koh,log10cstar,phase='gas')\n",
    "    if row['CRACMM2']!=roc: print(row['SPECIES_NAME'],row['CRACMM2'], roc) # print species that don't match file\n",
    "    dfbeis.loc[idx,'CRACMM2'] = roc\n",
    "dfbeis.to_csv(datadir+'bvoc_beis_tocracmm.csv', sep=',', na_rep='', float_format=None, columns=None, header=True, index=False)"
   ]
  },
  {
   "cell_type": "markdown",
   "id": "12d0c9c8-be4d-44ae-b20d-650f33207c71",
   "metadata": {},
   "source": [
    "### MEGAN\n",
    "input megan mapping from https://github.com/USEPA/CRACMM/tree/main/emissions/BiogenicMappings"
   ]
  },
  {
   "cell_type": "code",
   "execution_count": 8,
   "id": "562a165a-8906-408f-a9e3-03082ff367c1",
   "metadata": {},
   "outputs": [
    {
     "name": "stdout",
     "output_type": "stream",
     "text": [
      "p-Cymene ROCP6ARO VROCP6ARO\n",
      "Estragole ROCP6ARO VROCP6ARO\n",
      "beta-Ionone ROCP6ARO VROCP6ARO\n",
      "1-Octen-3-ol ROCP6ARO VROCP6ARO\n",
      "Farnesol ROCP5ARO VROCP5ARO\n",
      "cis-Nerolidol ROCP5ARO VROCP5ARO\n",
      "trans-Nerolidol ROCP5ARO VROCP5ARO\n",
      "2-Ethylhexyl salicylate ROCP2OXY2 VROCP2OXY2\n",
      "(-)-alpha-Cadinol ROCP5ARO VROCP5ARO\n",
      "(+)-Cedrol ROCP5OXY1 VROCP5OXY1\n",
      "3,3,5-Trimethylcyclohexyl salicylate ROCP1OXY1 VROCP1OXY1\n",
      "(-)-Kaur-16-ene ROCP5ARO VROCP5ARO\n",
      "(+)-Longicyclene ROCP4ALK VROCP4ALK\n",
      "(E)-6,10-Dimethylundeca-5,9-dien-2-one ROCP6ARO VROCP6ARO\n",
      "(E)-6,10-Dimethylundeca-5,9-dien-2-one ROCP6ARO VROCP6ARO\n",
      "6,10-Dimethyl-5,9-undecadiene-2-one ROCP6ARO VROCP6ARO\n",
      "2-Nonenal ROCP6ARO VROCP6ARO\n",
      "7-heptadecene ROCP5ARO VROCP5ARO\n",
      "Acetophenone ROCP6ARO VROCP6ARO\n",
      "Benzyl benzoate ROCP5ARO VROCP5ARO\n",
      "Benzyl acetate ROCP6ARO VROCP6ARO\n",
      "Cinnamic acid ROCP2OXY2 VROCP2OXY2\n",
      "Coniferyl alcohol ROCP1OXY3 VROCP1OXY3\n",
      "Ethyl cinnamate ROCP5ARO VROCP5ARO\n",
      "Jasmone ROCP6ARO VROCP6ARO\n",
      "Linalool oxide pyranoid, cis-(+-)- ROCP5ARO VROCP5ARO\n",
      "Linalool oxide pyranoid, cis-(+-)- ROCP5ARO VROCP5ARO\n",
      "Methyl benzoate ROCP6ARO VROCP6ARO\n",
      "Methyl jasmonate ROCP5ARO VROCP5ARO\n",
      "(2E)-3-(4-Hydroxyphenyl)-2-propenoic acid ROCP1OXY3 VROCP1OXY3\n",
      "Safrole ROCP5ARO VROCP5ARO\n",
      "(Z)-Hex-3-enyl butyrate ROCP6ARO VROCP6ARO\n",
      "Diallyl disulfide ROCP6ARO VROCP6ARO\n",
      "1-Dodecene ROCP6ARO VROCP6ARO\n",
      "Indole ROCP5ARO VROCP5ARO\n",
      "Allyl propyl disulfide ROCP6ARO VROCP6ARO\n",
      "3-Methylindole ROCP5ARO VROCP5ARO\n",
      "alpha-Terpinyl acetate ROCP6ARO VROCP6ARO\n",
      "alpha-Terpinyl acetate ROCP6ARO VROCP6ARO\n",
      "1-Tetradecene ROCP5ARO VROCP5ARO\n",
      "Carbon monoxide SLOWROC UNKCRACMM\n"
     ]
    },
    {
     "name": "stderr",
     "output_type": "stream",
     "text": [
      "/work/MOD3DEV/has/2023cracmm_ages/structurecuration/utilities/cracmm_mapper.py:286: UserWarning: Species with SMILES S is unknown in CRACMM and has been mapped to UNKCRACMM.\n",
      "  warnings.warn(unkcracmm_msg)\n",
      "/work/MOD3DEV/has/2023cracmm_ages/structurecuration/utilities/cracmm_mapper.py:286: UserWarning: Species with SMILES [C-]#[O+] is unknown in CRACMM and has been mapped to UNKCRACMM.\n",
      "  warnings.warn(unkcracmm_msg)\n",
      "/work/MOD3DEV/has/2023cracmm_ages/structurecuration/utilities/cracmm_mapper.py:286: UserWarning: Species with SMILES [N]=O is unknown in CRACMM and has been mapped to UNKCRACMM.\n",
      "  warnings.warn(unkcracmm_msg)\n"
     ]
    }
   ],
   "source": [
    "filename = datadir + 'bvoc_megan_tocracmm2alpha.csv'\n",
    "dfmegan = pd.read_csv(filename)\n",
    "dfmegan\n",
    "\n",
    "# check mappings vs mapper, differences will be printed to screen\n",
    "for idx, row in dfmegan.iterrows():    \n",
    "    query_smiles = str(row['SMILES'])\n",
    "    koh = row['ATMOSPHERIC_HYDROXYLATION_RATE_(AOH)_CM3/MOLECULE*SEC_OPERA_PRED']\n",
    "    log10cstar = row['log10Cstar_ugm3']\n",
    "    roc = cracmm2.get_cracmm_roc(query_smiles,koh,log10cstar,phase='gas')\n",
    "    if row['CRACMM2']!=roc: print(row['REPRESENTATIVE_COMPOUND_NAME'],row['CRACMM2'], roc) # print species that don't match file\n",
    "    dfmegan.loc[idx,'CRACMM2'] = roc\n",
    "dfmegan.to_csv(datadir+'bvoc_megan_tocracmm.csv', sep=',', na_rep='', float_format=None, columns=None, header=True, index=False)"
   ]
  },
  {
   "cell_type": "code",
   "execution_count": null,
   "id": "b04156ee-bfd5-4d7b-b8e3-00cf5388d6e7",
   "metadata": {},
   "outputs": [],
   "source": []
  }
 ],
 "metadata": {
  "kernelspec": {
   "display_name": "rhel8_py39",
   "language": "python",
   "name": "rhel8_py39"
  },
  "language_info": {
   "codemirror_mode": {
    "name": "ipython",
    "version": 3
   },
   "file_extension": ".py",
   "mimetype": "text/x-python",
   "name": "python",
   "nbconvert_exporter": "python",
   "pygments_lexer": "ipython3",
   "version": "3.9.15"
  }
 },
 "nbformat": 4,
 "nbformat_minor": 5
}
